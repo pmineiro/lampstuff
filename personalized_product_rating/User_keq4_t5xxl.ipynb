{
 "cells": [
  {
   "cell_type": "markdown",
   "id": "a258105a-3b77-499a-bc5c-6e1ceb3e92e5",
   "metadata": {},
   "source": [
    "# Step 1: fine-tune LLM using top result from (fixed) ranker"
   ]
  },
  {
   "cell_type": "code",
   "execution_count": 2,
   "id": "83f4483a-9d5d-4c65-923c-cc9e327c9498",
   "metadata": {},
   "outputs": [
    {
     "name": "stdout",
     "output_type": "stream",
     "text": [
      "******** augment = 4 max_iteration = 5 model_type = xxl *********\n",
      "n              iter (since)      4 loss (since)       4 MAE (since) 4 MAE (dev) (since)      dt\n",
      "8             0.000 (0.000)       0.374 (0.698)       0.500 (1.000)       0.000 (0.000)  22.1 s\n",
      "16            0.000 (0.000)       0.331 (0.288)       0.250 (0.000)       0.000 (0.000)  43.5 s\n",
      "32            0.000 (0.000)       0.374 (0.416)       0.219 (0.188)       0.000 (0.000)  1.41 m\n",
      "64            0.000 (0.000)       0.640 (0.905)       0.297 (0.375)       0.000 (0.000)  2.76 m\n",
      "128           0.000 (0.000)       0.654 (0.669)       0.328 (0.359)       0.000 (0.000)  5.57 m\n",
      "256           0.000 (0.000)       0.635 (0.615)       0.297 (0.266)       0.000 (0.000)  11.1 m\n",
      "512           0.000 (0.000)       0.553 (0.472)       0.258 (0.219)       0.000 (0.000)    22 m\n",
      "1024          0.000 (0.000)       0.541 (0.529)       0.237 (0.217)       0.000 (0.000)  44.6 m\n",
      "2048          0.000 (0.000)       0.532 (0.524)       0.238 (0.239)       0.000 (0.000)  1.48 h\n",
      "4096          0.000 (0.000)       0.526 (0.519)       0.234 (0.230)       0.000 (0.000)  2.97 h\n",
      "8192          0.000 (0.000)       0.503 (0.479)       0.227 (0.220)       0.000 (0.000)  5.94 h\n",
      "16384         0.000 (0.000)       0.480 (0.457)       0.217 (0.207)       0.000 (0.000)  11.9 h\n",
      "27500         0.000 (0.000)       0.477 (0.471)       0.216 (0.213)       0.209 (0.209)  18.8 h\n",
      "55000         0.500 (1.000)       0.467 (0.457)       0.209 (0.203)       0.211 (0.213)  1.56 d\n",
      "82500         1.000 (2.000)       0.462 (0.451)       0.207 (0.202)       0.209 (0.206)  2.34 d\n",
      "110000        1.500 (3.000)       0.457 (0.445)       0.205 (0.200)       0.208 (0.206)  3.12 d\n"
     ]
    }
   ],
   "source": [
    "# NB: amulet dropped some of the log output when this was run (?)\n",
    "def launch():\n",
    "    import os\n",
    "    import StepOne\n",
    "    import torch\n",
    "\n",
    "    os.environ['MODEL_TYPE'] = 'xxl'\n",
    "    augment = int(os.environ.get('AUGMENT', '4'))\n",
    "    os.environ['BATCH_SIZE'] = '1'\n",
    "    \n",
    "    world_size = torch.cuda.device_count()\n",
    "    torch.multiprocessing.spawn(StepOne.step_one,\n",
    "                                args=(world_size,),\n",
    "                                nprocs=world_size,\n",
    "                                join=True)\n",
    "    \n",
    "launch()"
   ]
  },
  {
   "cell_type": "markdown",
   "id": "daf16df8-9320-4be9-98f9-da38da180a91",
   "metadata": {},
   "source": [
    "# Step 2: learn ranker using (fixed pre-finetuned) task LLM"
   ]
  },
  {
   "cell_type": "code",
   "execution_count": null,
   "id": "58810c2b-35e5-4efe-bd43-1b5f25c16357",
   "metadata": {},
   "outputs": [],
   "source": [
    "def launch():\n",
    "    import os\n",
    "    import StepTwo\n",
    "    import torch\n",
    "\n",
    "    # NB: these are 80Gb gpu ram settings\n",
    "    os.environ['MODEL_TYPE'] = 'xxl'\n",
    "    augment = int(os.environ.get('AUGMENT', '1'))\n",
    "    os.environ['BATCH_SIZE'] = '1'\n",
    "    os.environ['LEARN_BATCH_SIZE'] = '4'\n",
    "    os.environ['STEP1_ITER'] = '2_augment4'\n",
    "    \n",
    "    world_size = torch.cuda.device_count()\n",
    "    torch.multiprocessing.spawn(StepTwo.step_two,\n",
    "                                args=(world_size,),\n",
    "                                nprocs=world_size,\n",
    "                                join=True)\n",
    "    \n",
    "launch()"
   ]
  },
  {
   "cell_type": "code",
   "execution_count": null,
   "id": "0daa5c51-2bce-415a-8abf-e7ce3d0e1cbc",
   "metadata": {},
   "outputs": [],
   "source": []
  }
 ],
 "metadata": {
  "kernelspec": {
   "display_name": "Python 3 (ipykernel)",
   "language": "python",
   "name": "python3"
  },
  "language_info": {
   "codemirror_mode": {
    "name": "ipython",
    "version": 3
   },
   "file_extension": ".py",
   "mimetype": "text/x-python",
   "name": "python",
   "nbconvert_exporter": "python",
   "pygments_lexer": "ipython3",
   "version": "3.10.13"
  }
 },
 "nbformat": 4,
 "nbformat_minor": 5
}
