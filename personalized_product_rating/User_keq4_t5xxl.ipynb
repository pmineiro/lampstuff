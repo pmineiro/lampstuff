{
 "cells": [
  {
   "cell_type": "markdown",
   "id": "a258105a-3b77-499a-bc5c-6e1ceb3e92e5",
   "metadata": {},
   "source": [
    "# Step 1: fine-tune LLM using top result from (fixed) ranker"
   ]
  },
  {
   "cell_type": "code",
   "execution_count": 2,
   "id": "83f4483a-9d5d-4c65-923c-cc9e327c9498",
   "metadata": {},
   "outputs": [
    {
     "name": "stdout",
     "output_type": "stream",
     "text": [
      "******** augment = 4 max_iteration = 5 model_type = xxl *********\n",
      "n              iter (since)      4 loss (since)       4 MAE (since) 4 MAE (dev) (since)      dt\n",
      "8             0.000 (0.000)       0.374 (0.698)       0.500 (1.000)       0.000 (0.000)  22.1 s\n",
      "16            0.000 (0.000)       0.331 (0.288)       0.250 (0.000)       0.000 (0.000)  43.5 s\n",
      "32            0.000 (0.000)       0.374 (0.416)       0.219 (0.188)       0.000 (0.000)  1.41 m\n",
      "64            0.000 (0.000)       0.640 (0.905)       0.297 (0.375)       0.000 (0.000)  2.76 m\n",
      "128           0.000 (0.000)       0.654 (0.669)       0.328 (0.359)       0.000 (0.000)  5.57 m\n",
      "256           0.000 (0.000)       0.635 (0.615)       0.297 (0.266)       0.000 (0.000)  11.1 m\n",
      "512           0.000 (0.000)       0.553 (0.472)       0.258 (0.219)       0.000 (0.000)    22 m\n",
      "1024          0.000 (0.000)       0.541 (0.529)       0.237 (0.217)       0.000 (0.000)  44.6 m\n",
      "2048          0.000 (0.000)       0.532 (0.524)       0.238 (0.239)       0.000 (0.000)  1.48 h\n",
      "4096          0.000 (0.000)       0.526 (0.519)       0.234 (0.230)       0.000 (0.000)  2.97 h\n",
      "8192          0.000 (0.000)       0.503 (0.479)       0.227 (0.220)       0.000 (0.000)  5.94 h\n",
      "16384         0.000 (0.000)       0.480 (0.457)       0.217 (0.207)       0.000 (0.000)  11.9 h\n",
      "27500         0.000 (0.000)       0.477 (0.471)       0.216 (0.213)       0.209 (0.209)  18.8 h\n",
      "55000         0.500 (1.000)       0.467 (0.457)       0.209 (0.203)       0.211 (0.213)  1.56 d\n",
      "82500         1.000 (2.000)       0.462 (0.451)       0.207 (0.202)       0.209 (0.206)  2.34 d\n",
      "110000        1.500 (3.000)       0.457 (0.445)       0.205 (0.200)       0.208 (0.206)  3.12 d\n"
     ]
    }
   ],
   "source": [
    "# NB: amulet dropped some of the log output when this was run (?)\n",
    "def launch():\n",
    "    import os\n",
    "    import StepOne\n",
    "    import torch\n",
    "\n",
    "    os.environ['MODEL_TYPE'] = 'xxl'\n",
    "    augment = int(os.environ.get('AUGMENT', '4'))\n",
    "    os.environ['BATCH_SIZE'] = '1'\n",
    "    \n",
    "    world_size = torch.cuda.device_count()\n",
    "    torch.multiprocessing.spawn(StepOne.step_one,\n",
    "                                args=(world_size,),\n",
    "                                nprocs=world_size,\n",
    "                                join=True)\n",
    "    \n",
    "launch()"
   ]
  },
  {
   "cell_type": "markdown",
   "id": "daf16df8-9320-4be9-98f9-da38da180a91",
   "metadata": {},
   "source": [
    "# Step 2: learn ranker using (fixed pre-finetuned) task LLM"
   ]
  },
  {
   "cell_type": "code",
   "execution_count": null,
   "id": "58810c2b-35e5-4efe-bd43-1b5f25c16357",
   "metadata": {},
   "outputs": [
    {
     "name": "stdout",
     "output_type": "stream",
     "text": [
      "******** augment = 0 max_iteration = 5 model_type = xxl *********\n",
      "n              iter (since)      4 loss (since)       4 MAE (since) 4 MAE (dev) (since)      nsamps (since)      dt\n",
      "1             0.000 (0.000)       0.234 (0.234)       0.000 (0.000)       0.000 (0.000)      64.000 (64.000)  37.5 s\n",
      "2             0.000 (0.000)       0.118 (0.001)       0.000 (0.000)       0.000 (0.000)      33.000 (2.000)    45 s\n",
      "4             0.000 (0.000)       1.786 (3.455)       0.250 (0.500)       0.000 (0.000)      17.750 (2.500)  56.4 s\n",
      "8             0.000 (0.000)       1.210 (0.634)       0.250 (0.250)       0.000 (0.000)      19.125 (20.500)  1.71 m\n",
      "16            0.000 (0.000)       0.928 (0.647)       0.312 (0.375)       0.000 (0.000)      15.000 (10.875)  3.29 m\n",
      "32            0.000 (0.000)       0.670 (0.412)       0.219 (0.125)       0.000 (0.000)      11.750 (8.500)  5.37 m\n",
      "64            0.000 (0.000)       0.592 (0.514)       0.219 (0.219)       0.000 (0.000)       8.859 (5.969)  9.25 m\n",
      "128           0.000 (0.000)       0.510 (0.428)       0.195 (0.172)       0.000 (0.000)       6.727 (4.594)  16.5 m\n",
      "256           0.000 (0.000)       0.533 (0.557)       0.215 (0.234)       0.000 (0.000)       6.473 (6.219)  32.9 m\n",
      "512           0.000 (0.000)       0.529 (0.524)       0.219 (0.223)       0.000 (0.000)       6.350 (6.227)  1.08 h\n",
      "1024          0.000 (0.000)       0.499 (0.468)       0.198 (0.178)       0.000 (0.000)       5.821 (5.293)  2.12 h\n",
      "2048          0.000 (0.000)       0.497 (0.496)       0.195 (0.191)       0.000 (0.000)       5.844 (5.866)  4.24 h\n",
      "4096          0.000 (0.000)       0.477 (0.457)       0.196 (0.197)       0.000 (0.000)       5.608 (5.373)  8.43 h\n",
      "8192          0.000 (0.000)       0.461 (0.445)       0.199 (0.201)       0.000 (0.000)       5.359 (5.111)  16.7 h\n",
      "16384         0.000 (0.000)       0.439 (0.418)       0.197 (0.195)       0.000 (0.000)       4.998 (4.637)  1.35 d\n",
      "22500         0.000 (0.000)       0.435 (0.412)       0.197 (0.198)       0.214 (0.214)       4.916 (4.541)  1.79 d\n",
      "45000         0.500 (1.000)       0.421 (0.408)       0.196 (0.195)       0.215 (0.216)       4.653 (4.390)  3.52 d\n",
      "67500         1.000 (2.000)       0.414 (0.399)       0.195 (0.195)       0.217 (0.223)       4.508 (4.219)  5.23 d\n",
      "90000         1.500 (3.000)       0.409 (0.394)       0.196 (0.199)       0.217 (0.217)       4.430 (4.196)  6.94 d\n",
      "112500        2.000 (4.000)       0.404 (0.385)       0.196 (0.197)       0.217 (0.218)       4.375 (4.152)  1.24 w\n"
     ]
    }
   ],
   "source": [
    "def launch():\n",
    "    import os\n",
    "    import StepTwo\n",
    "    import torch\n",
    "\n",
    "    # NB: these are 80Gb gpu ram settings\n",
    "    os.environ['MODEL_TYPE'] = 'xxl'\n",
    "    augment = int(os.environ.get('AUGMENT', '1'))\n",
    "    os.environ['BATCH_SIZE'] = '1'\n",
    "    os.environ['LEARN_BATCH_SIZE'] = '4'\n",
    "    os.environ['STEP1_ITER'] = '2_augment4'\n",
    "    \n",
    "    world_size = torch.cuda.device_count()\n",
    "    torch.multiprocessing.spawn(StepTwo.step_two,\n",
    "                                args=(world_size,),\n",
    "                                nprocs=world_size,\n",
    "                                join=True)\n",
    "    \n",
    "launch()"
   ]
  },
  {
   "cell_type": "code",
   "execution_count": null,
   "id": "0daa5c51-2bce-415a-8abf-e7ce3d0e1cbc",
   "metadata": {},
   "outputs": [],
   "source": []
  }
 ],
 "metadata": {
  "kernelspec": {
   "display_name": "Python 3 (ipykernel)",
   "language": "python",
   "name": "python3"
  },
  "language_info": {
   "codemirror_mode": {
    "name": "ipython",
    "version": 3
   },
   "file_extension": ".py",
   "mimetype": "text/x-python",
   "name": "python",
   "nbconvert_exporter": "python",
   "pygments_lexer": "ipython3",
   "version": "3.10.13"
  }
 },
 "nbformat": 4,
 "nbformat_minor": 5
}
