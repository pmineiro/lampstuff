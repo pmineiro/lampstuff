{
 "cells": [
  {
   "cell_type": "markdown",
   "id": "a258105a-3b77-499a-bc5c-6e1ceb3e92e5",
   "metadata": {},
   "source": [
    "# Step 1: fine-tune LLM using top result from (fixed) ranker"
   ]
  },
  {
   "cell_type": "code",
   "execution_count": null,
   "id": "83f4483a-9d5d-4c65-923c-cc9e327c9498",
   "metadata": {},
   "outputs": [],
   "source": [
    "def launch():\n",
    "    import os\n",
    "    import StepOne\n",
    "    import torch\n",
    "\n",
    "    os.environ['MODEL_TYPE'] = 'base'\n",
    "    os.environ['BATCH_SIZE'] = '16'\n",
    "    \n",
    "    world_size = torch.cuda.device_count()\n",
    "    torch.multiprocessing.spawn(StepOne.step_one,\n",
    "                                args=(world_size,),\n",
    "                                nprocs=world_size,\n",
    "                                join=True)\n",
    "    \n",
    "launch()"
   ]
  },
  {
   "cell_type": "markdown",
   "id": "d41c12d7-7558-410b-a1b5-768fc86f98a7",
   "metadata": {},
   "source": [
    "# Step 2: learn ranker using (fixed pre-finetuned) task LLM"
   ]
  },
  {
   "cell_type": "code",
   "execution_count": null,
   "id": "4fcd3580-0bf2-450a-a316-849124fafd3f",
   "metadata": {},
   "outputs": [],
   "source": [
    "def launch():\n",
    "    import os\n",
    "    import StepTwo\n",
    "    import torch\n",
    "\n",
    "    os.environ['MODEL_TYPE'] = 'base'\n",
    "    os.environ['BATCH_SIZE'] = '2'\n",
    "    os.environ['LEARN_BATCH_SIZE'] = '4'\n",
    "    os.environ['GRAD_FREE_BATCH_SIZE'] = '16'\n",
    "    \n",
    "    world_size = torch.cuda.device_count()\n",
    "    torch.multiprocessing.spawn(StepTwo.step_two,\n",
    "                                args=(world_size,),\n",
    "                                nprocs=world_size,\n",
    "                                join=True)\n",
    "    \n",
    "launch()"
   ]
  },
  {
   "cell_type": "code",
   "execution_count": null,
   "id": "ac86343e-22c9-46af-b586-ab10a5327bf1",
   "metadata": {},
   "outputs": [],
   "source": []
  }
 ],
 "metadata": {
  "kernelspec": {
   "display_name": "Python 3 (ipykernel)",
   "language": "python",
   "name": "python3"
  },
  "language_info": {
   "codemirror_mode": {
    "name": "ipython",
    "version": 3
   },
   "file_extension": ".py",
   "mimetype": "text/x-python",
   "name": "python",
   "nbconvert_exporter": "python",
   "pygments_lexer": "ipython3",
   "version": "3.10.13"
  }
 },
 "nbformat": 4,
 "nbformat_minor": 5
}
