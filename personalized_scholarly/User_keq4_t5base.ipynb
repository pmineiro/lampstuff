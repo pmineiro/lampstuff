{
 "cells": [
  {
   "cell_type": "markdown",
   "id": "a258105a-3b77-499a-bc5c-6e1ceb3e92e5",
   "metadata": {},
   "source": [
    "# Step 1: fine-tune LLM using top result from (fixed) ranker"
   ]
  },
  {
   "cell_type": "code",
   "execution_count": null,
   "id": "83f4483a-9d5d-4c65-923c-cc9e327c9498",
   "metadata": {},
   "outputs": [
    {
     "name": "stdout",
     "output_type": "stream",
     "text": [
      "******** augment = 4 max_iteration = 5 model_type = base *********\n",
      "n                 iter (since)         4 loss (since)       4 rouge1 (since)   4 rouge1 ema (since) 4 rouge1 (dev) (since)      dt\n",
      "1                0.000 (0.000)          2.260 (2.260)          0.426 (0.426)          0.426 (0.426)          0.000 (0.000)  7.66 s\n",
      "2                0.000 (0.000)          2.047 (1.835)          0.464 (0.502)          0.459 (0.492)          0.000 (0.000)  13.9 s\n",
      "4                0.000 (0.000)          1.949 (1.850)          0.436 (0.409)          0.462 (0.466)          0.000 (0.000)  25.2 s\n",
      "16               0.000 (0.000)          1.983 (1.987)          0.426 (0.431)          0.435 (0.424)          0.000 (0.000)  1.56 m\n",
      "32               0.000 (0.000)          1.967 (1.950)          0.438 (0.449)          0.440 (0.444)          0.000 (0.000)  3.01 m\n",
      "64               0.000 (0.000)          1.902 (1.838)          0.435 (0.433)          0.438 (0.437)          0.000 (0.000)  5.93 m\n",
      "128              0.000 (0.000)          1.846 (1.790)          0.436 (0.438)          0.439 (0.441)          0.000 (0.000)  11.8 m\n",
      "256              0.000 (0.000)          1.817 (1.756)          0.442 (0.452)          0.442 (0.447)          0.427 (0.427)  22.2 m\n",
      "503              0.000 (0.000)          1.817 (0.000)          0.442 (0.000)          0.442 (0.000)          0.422 (0.420)  39.7 m\n",
      "1006             0.500 (1.000)          1.793 (1.769)          0.452 (0.462)          0.449 (0.456)          0.424 (0.427)  1.33 h\n",
      "1509             1.000 (2.000)          1.769 (1.720)          0.456 (0.464)          0.455 (0.467)          0.425 (0.427)  2.02 h\n",
      "2012             1.500 (3.000)          1.760 (1.734)          0.453 (0.445)          0.454 (0.449)          0.426 (0.428)  2.69 h\n",
      "2515             2.000 (4.000)          1.751 (1.716)          0.454 (0.455)          0.453 (0.453)          0.427 (0.429)  3.36 h\n"
     ]
    }
   ],
   "source": [
    "def launch():\n",
    "    import os\n",
    "    import StepOne\n",
    "    import torch\n",
    "\n",
    "    os.environ['MODEL_TYPE'] = 'base'\n",
    "    os.environ['BATCH_SIZE'] = '8'\n",
    "    \n",
    "    world_size = torch.cuda.device_count()\n",
    "    torch.multiprocessing.spawn(StepOne.step_one,\n",
    "                                args=(world_size,),\n",
    "                                nprocs=world_size,\n",
    "                                join=True)\n",
    "    \n",
    "launch()"
   ]
  },
  {
   "cell_type": "markdown",
   "id": "d41c12d7-7558-410b-a1b5-768fc86f98a7",
   "metadata": {},
   "source": [
    "# Step 2: learn ranker using (fixed pre-finetuned) task LLM"
   ]
  },
  {
   "cell_type": "code",
   "execution_count": null,
   "id": "4fcd3580-0bf2-450a-a316-849124fafd3f",
   "metadata": {},
   "outputs": [],
   "source": [
    "def launch():\n",
    "    import os\n",
    "    import StepTwo\n",
    "    import torch\n",
    "\n",
    "    os.environ['MODEL_TYPE'] = 'base'\n",
    "    os.environ['BATCH_SIZE'] = '2'\n",
    "    os.environ['LEARN_BATCH_SIZE'] = '4'\n",
    "    os.environ['GRAD_FREE_BATCH_SIZE'] = '16'\n",
    "    \n",
    "    world_size = torch.cuda.device_count()\n",
    "    torch.multiprocessing.spawn(StepTwo.step_two,\n",
    "                                args=(world_size,),\n",
    "                                nprocs=world_size,\n",
    "                                join=True)\n",
    "    \n",
    "launch()"
   ]
  },
  {
   "cell_type": "code",
   "execution_count": null,
   "id": "ac86343e-22c9-46af-b586-ab10a5327bf1",
   "metadata": {},
   "outputs": [],
   "source": []
  }
 ],
 "metadata": {
  "kernelspec": {
   "display_name": "Python 3 (ipykernel)",
   "language": "python",
   "name": "python3"
  },
  "language_info": {
   "codemirror_mode": {
    "name": "ipython",
    "version": 3
   },
   "file_extension": ".py",
   "mimetype": "text/x-python",
   "name": "python",
   "nbconvert_exporter": "python",
   "pygments_lexer": "ipython3",
   "version": "3.10.13"
  }
 },
 "nbformat": 4,
 "nbformat_minor": 5
}
