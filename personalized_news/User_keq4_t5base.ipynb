{
 "cells": [
  {
   "cell_type": "markdown",
   "id": "a258105a-3b77-499a-bc5c-6e1ceb3e92e5",
   "metadata": {},
   "source": [
    "# Step 1: fine-tune LLM using top result from (fixed) ranker"
   ]
  },
  {
   "cell_type": "code",
   "execution_count": 2,
   "id": "83f4483a-9d5d-4c65-923c-cc9e327c9498",
   "metadata": {},
   "outputs": [
    {
     "name": "stdout",
     "output_type": "stream",
     "text": [
      "******** augment = 8 max_iteration = 5 model_type = base *********\n",
      "n                 iter (since)         4 loss (since)       4 rouge1 (since) 4 rouge1 (dev) (since)      dt\n",
      "1                0.000 (0.000)          3.119 (3.119)          0.152 (0.152)          0.000 (0.000)  2.06 m\n",
      "2                0.000 (0.000)          3.217 (3.315)          0.136 (0.120)          0.000 (0.000)  4.64 m\n",
      "4                0.000 (0.000)          3.186 (3.154)          0.145 (0.153)          0.000 (0.000)  7.95 m\n",
      "8                0.000 (0.000)          3.112 (3.038)          0.158 (0.170)          0.000 (0.000)  15.1 m\n",
      "16               0.000 (0.000)          3.063 (3.014)          0.165 (0.173)          0.000 (0.000)  29.6 m\n",
      "32               0.000 (0.000)          3.020 (2.977)          0.171 (0.178)          0.000 (0.000)  57.8 m\n",
      "64               0.000 (0.000)          2.966 (2.913)          0.178 (0.184)          0.000 (0.000)  1.96 h\n",
      "128              0.000 (0.000)          2.940 (2.914)          0.181 (0.184)          0.000 (0.000)  3.94 h\n",
      "256              0.000 (0.000)          2.912 (2.884)          0.184 (0.186)          0.000 (0.000)  7.92 h\n",
      "512              0.000 (0.000)          2.896 (2.866)          0.184 (0.185)          0.186 (0.186)  12.5 h\n",
      "513              0.000 (0.000)          2.896 (0.000)          0.184 (0.000)          0.186 (0.154)  12.5 h\n",
      "1026             0.500 (1.000)          2.872 (2.848)          0.184 (0.185)          0.184 (0.182)  1.05 d\n",
      "1539             1.000 (2.000)          2.858 (2.830)          0.185 (0.185)          0.184 (0.185)  1.58 d\n",
      "2052             1.500 (3.000)          2.847 (2.816)          0.185 (0.185)          0.184 (0.184)  2.11 d\n",
      "2565             2.000 (4.000)          2.839 (2.806)          0.185 (0.184)          0.183 (0.179)  2.63 d\n"
     ]
    }
   ],
   "source": [
    "def launch():\n",
    "    import os\n",
    "    import StepOne\n",
    "    import torch\n",
    "\n",
    "    os.environ['MODEL_TYPE'] = 'base'\n",
    "    augment = int(os.environ.get('AUGMENT', '1'))\n",
    "    os.environ['BATCH_SIZE'] = '16' # '32'\n",
    "    \n",
    "    world_size = torch.cuda.device_count()\n",
    "    torch.multiprocessing.spawn(StepOne.step_one,\n",
    "                                args=(world_size,),\n",
    "                                nprocs=world_size,\n",
    "                                join=True)\n",
    "    \n",
    "launch()"
   ]
  },
  {
   "cell_type": "markdown",
   "id": "d41c12d7-7558-410b-a1b5-768fc86f98a7",
   "metadata": {},
   "source": [
    "# Step 2: learn ranker using (fixed pre-finetuned) task LLM"
   ]
  },
  {
   "cell_type": "code",
   "execution_count": null,
   "id": "4fcd3580-0bf2-450a-a316-849124fafd3f",
   "metadata": {},
   "outputs": [],
   "source": [
    "def launch():\n",
    "    import os\n",
    "    import StepTwo\n",
    "    import torch\n",
    "\n",
    "    os.environ['MODEL_TYPE'] = 'base'\n",
    "    augment = int(os.environ.get('AUGMENT', '1'))\n",
    "    os.environ['BATCH_SIZE'] = '1'\n",
    "    os.environ['LEARN_BATCH_SIZE'] = '1'\n",
    "    os.environ['GRAD_FREE_BATCH_SIZE'] = '32'\n",
    "    os.environ['STEP1_ITER'] = '0_augment8'\n",
    "    \n",
    "    world_size = torch.cuda.device_count()\n",
    "    torch.multiprocessing.spawn(StepTwo.step_two,\n",
    "                                args=(world_size,),\n",
    "                                nprocs=world_size,\n",
    "                                join=True)\n",
    "    \n",
    "launch()"
   ]
  },
  {
   "cell_type": "code",
   "execution_count": null,
   "id": "ac86343e-22c9-46af-b586-ab10a5327bf1",
   "metadata": {},
   "outputs": [],
   "source": []
  }
 ],
 "metadata": {
  "kernelspec": {
   "display_name": "Python 3 (ipykernel)",
   "language": "python",
   "name": "python3"
  },
  "language_info": {
   "codemirror_mode": {
    "name": "ipython",
    "version": 3
   },
   "file_extension": ".py",
   "mimetype": "text/x-python",
   "name": "python",
   "nbconvert_exporter": "python",
   "pygments_lexer": "ipython3",
   "version": "3.10.13"
  }
 },
 "nbformat": 4,
 "nbformat_minor": 5
}
