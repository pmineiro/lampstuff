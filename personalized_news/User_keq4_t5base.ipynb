{
 "cells": [
  {
   "cell_type": "markdown",
   "id": "a258105a-3b77-499a-bc5c-6e1ceb3e92e5",
   "metadata": {},
   "source": [
    "# Step 1: fine-tune LLM using top result from (fixed) ranker"
   ]
  },
  {
   "cell_type": "code",
   "execution_count": 2,
   "id": "83f4483a-9d5d-4c65-923c-cc9e327c9498",
   "metadata": {},
   "outputs": [
    {
     "name": "stdout",
     "output_type": "stream",
     "text": [
      "******** augment = 4 max_iteration = 20 model_type = base *********\n",
      "n                 iter (since)         4 loss (since)       4 rouge1 (since)   4 rouge1 ema (since) 4 rouge1 (dev) (since)      dt\n",
      "1                0.000 (0.000)          3.523 (3.523)          0.177 (0.177)          0.177 (0.177)          0.000 (0.000)  20.5 s\n",
      "2                0.000 (0.000)          3.432 (3.341)          0.161 (0.144)          0.148 (0.120)          0.000 (0.000)  34.8 s\n",
      "16               0.000 (0.000)          3.185 (3.180)          0.162 (0.149)          0.163 (0.155)          0.000 (0.000)  2.86 m\n",
      "32               0.000 (0.000)          3.105 (3.025)          0.171 (0.180)          0.170 (0.176)          0.000 (0.000)  5.47 m\n",
      "64               0.000 (0.000)          3.059 (3.009)          0.172 (0.174)          0.170 (0.170)          0.166 (0.166)  10.7 m\n",
      "128              0.000 (0.000)          3.059 (0.000)          0.172 (0.000)          0.170 (0.000)          0.171 (0.171)  17.6 m\n",
      "183              0.000 (0.000)          3.059 (0.000)          0.172 (0.000)          0.170 (0.000)          0.172 (0.173)  23.4 m\n",
      "366              0.500 (1.000)          3.037 (3.016)          0.173 (0.173)          0.170 (0.170)          0.176 (0.180)    47 m\n",
      "549              1.000 (2.000)          2.984 (2.878)          0.178 (0.189)          0.176 (0.188)          0.177 (0.179)   1.2 h\n",
      "732              1.500 (3.000)          2.969 (2.922)          0.179 (0.179)          0.177 (0.180)          0.178 (0.180)   1.6 h\n",
      "915              2.000 (4.000)          2.956 (2.903)          0.179 (0.179)          0.178 (0.181)          0.179 (0.183)  1.99 h\n",
      "1098             2.500 (5.000)          2.945 (2.892)          0.180 (0.185)          0.179 (0.188)          0.179 (0.183)  2.41 h\n",
      "1281             3.000 (6.000)          2.938 (2.894)          0.181 (0.190)          0.180 (0.186)          0.180 (0.183)   2.8 h\n",
      "1464             3.500 (7.000)          2.922 (2.809)          0.182 (0.188)          0.182 (0.190)          0.181 (0.186)   3.2 h\n",
      "1647             4.000 (8.000)          2.914 (2.857)          0.183 (0.191)          0.183 (0.195)          0.181 (0.185)  3.61 h\n",
      "1830             4.500 (9.000)          2.907 (2.837)          0.183 (0.179)          0.184 (0.188)          0.182 (0.185)  4.02 h\n",
      "2013             5.000 (10.000)          2.897 (2.801)          0.183 (0.187)          0.184 (0.190)          0.182 (0.186)  4.42 h\n",
      "2196             5.500 (11.000)          2.889 (2.803)          0.184 (0.201)          0.186 (0.205)          0.182 (0.186)  4.83 h\n",
      "2379             6.000 (12.000)          2.882 (2.790)          0.185 (0.194)          0.186 (0.193)          0.183 (0.187)  5.23 h\n",
      "2562             6.500 (13.000)          2.876 (2.806)          0.185 (0.190)          0.187 (0.195)          0.183 (0.187)  5.63 h\n",
      "2745             7.000 (14.000)          2.868 (2.760)          0.186 (0.194)          0.188 (0.194)          0.183 (0.187)  6.04 h\n",
      "2928             7.500 (15.000)          2.862 (2.758)          0.186 (0.190)          0.187 (0.185)          0.184 (0.189)  6.45 h\n",
      "3111             8.000 (16.000)          2.855 (2.758)          0.187 (0.192)          0.188 (0.198)          0.184 (0.188)  6.84 h\n",
      "3294             8.500 (17.000)          2.848 (2.713)          0.187 (0.195)          0.188 (0.196)          0.184 (0.189)  7.24 h\n",
      "3477             9.000 (18.000)          2.842 (2.746)          0.187 (0.194)          0.189 (0.194)          0.184 (0.189)  7.65 h\n",
      "3660             9.500 (19.000)          2.837 (2.734)          0.188 (0.197)          0.189 (0.199)          0.185 (0.187)  8.06 h\n"
     ]
    }
   ],
   "source": [
    "# NB: amulet ate some log output (?)\n",
    "def launch():\n",
    "    import os\n",
    "    import StepOne\n",
    "    import torch\n",
    "\n",
    "    os.environ['MODEL_TYPE'] = 'base'\n",
    "    os.environ['BATCH_SIZE'] = '16'\n",
    "    \n",
    "    world_size = torch.cuda.device_count()\n",
    "    torch.multiprocessing.spawn(StepOne.step_one,\n",
    "                                args=(world_size,),\n",
    "                                nprocs=world_size,\n",
    "                                join=True)\n",
    "    \n",
    "launch()"
   ]
  },
  {
   "cell_type": "markdown",
   "id": "d41c12d7-7558-410b-a1b5-768fc86f98a7",
   "metadata": {},
   "source": [
    "# Step 2: learn ranker using (fixed pre-finetuned) task LLM"
   ]
  },
  {
   "cell_type": "code",
   "execution_count": null,
   "id": "4fcd3580-0bf2-450a-a316-849124fafd3f",
   "metadata": {},
   "outputs": [],
   "source": [
    "def launch():\n",
    "    import os\n",
    "    import StepTwo\n",
    "    import torch\n",
    "\n",
    "    os.environ['MODEL_TYPE'] = os.environ.get('MODEL_TYPE', 'base')\n",
    "    os.environ['BATCH_SIZE'] = os.environ.get('BATCH_SIZE', '2')\n",
    "    os.environ['LEARN_BATCH_SIZE'] = os.environ.get('LEARN_BATCH_SIZE', '2')\n",
    "    os.environ['GRAD_FREE_BATCH_SIZE'] = os.environ.get('GRAD_FREE_BATCH_SIZE', '16')\n",
    "    os.environ['STEP1_ITER'] = os.environ.get('STEP1_ITER', '17_augment4')\n",
    "    \n",
    "    world_size = torch.cuda.device_count()\n",
    "    torch.multiprocessing.spawn(StepTwo.step_two,\n",
    "                                args=(world_size,),\n",
    "                                nprocs=world_size,\n",
    "                                join=True)\n",
    "    \n",
    "launch()"
   ]
  },
  {
   "cell_type": "code",
   "execution_count": null,
   "id": "ac86343e-22c9-46af-b586-ab10a5327bf1",
   "metadata": {},
   "outputs": [],
   "source": []
  }
 ],
 "metadata": {
  "kernelspec": {
   "display_name": "Python 3 (ipykernel)",
   "language": "python",
   "name": "python3"
  },
  "language_info": {
   "codemirror_mode": {
    "name": "ipython",
    "version": 3
   },
   "file_extension": ".py",
   "mimetype": "text/x-python",
   "name": "python",
   "nbconvert_exporter": "python",
   "pygments_lexer": "ipython3",
   "version": "3.10.13"
  }
 },
 "nbformat": 4,
 "nbformat_minor": 5
}
