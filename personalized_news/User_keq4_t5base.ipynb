{
 "cells": [
  {
   "cell_type": "markdown",
   "id": "a258105a-3b77-499a-bc5c-6e1ceb3e92e5",
   "metadata": {},
   "source": [
    "# Step 1: fine-tune LLM using top result from (fixed) ranker"
   ]
  },
  {
   "cell_type": "code",
   "execution_count": 2,
   "id": "83f4483a-9d5d-4c65-923c-cc9e327c9498",
   "metadata": {},
   "outputs": [
    {
     "name": "stdout",
     "output_type": "stream",
     "text": [
      "******** augment = 2 max_iteration = 5 model_type = base *********\n",
      "n                 iter (since)         4 loss (since)       4 rouge1 (since) 4 rouge1 (dev) (since)      dt\n",
      "1                0.000 (0.000)          3.358 (3.358)          0.151 (0.151)          0.000 (0.000)  8.15 s\n",
      "2                0.000 (0.000)          3.254 (3.149)          0.170 (0.189)          0.000 (0.000)  14.6 s\n",
      "8                0.000 (0.000)          3.223 (3.123)          0.166 (0.165)          0.000 (0.000)  57.7 s\n",
      "16               0.000 (0.000)          3.180 (3.137)          0.166 (0.165)          0.000 (0.000)  1.99 m\n",
      "32               0.000 (0.000)          3.061 (2.941)          0.178 (0.191)          0.000 (0.000)  3.94 m\n",
      "64               0.000 (0.000)          3.036 (3.011)          0.175 (0.172)          0.000 (0.000)  7.94 m\n",
      "128              0.000 (0.000)          3.000 (2.965)          0.180 (0.185)          0.000 (0.000)    16 m\n",
      "256              0.000 (0.000)          2.972 (2.944)          0.180 (0.179)          0.000 (0.000)  32.5 m\n",
      "512              0.000 (0.000)          2.933 (2.894)          0.182 (0.185)          0.000 (0.000)   1.1 h\n",
      "709              0.000 (0.000)          2.930 (2.914)          0.182 (0.177)          0.182 (0.182)  1.41 h\n",
      "1418             0.500 (1.000)          2.902 (2.874)          0.185 (0.189)          0.186 (0.190)  2.82 h\n",
      "2127             1.000 (2.000)          2.884 (2.847)          0.186 (0.189)          0.187 (0.189)  4.24 h\n",
      "2836             1.500 (3.000)          2.874 (2.842)          0.187 (0.190)          0.187 (0.189)  5.66 h\n",
      "3545             2.000 (4.000)          2.864 (2.827)          0.188 (0.190)          0.187 (0.183)  7.08 h\n"
     ]
    }
   ],
   "source": [
    "# NB: amulet ate some log output (?)\n",
    "def launch():\n",
    "    import os\n",
    "    import StepOne\n",
    "    import torch\n",
    "\n",
    "    os.environ['MODEL_TYPE'] = 'base'\n",
    "    augment = int(os.environ.get('AUGMENT', '2'))\n",
    "    os.environ['BATCH_SIZE'] = '16'\n",
    "    \n",
    "    world_size = torch.cuda.device_count()\n",
    "    torch.multiprocessing.spawn(StepOne.step_one,\n",
    "                                args=(world_size,),\n",
    "                                nprocs=world_size,\n",
    "                                join=True)\n",
    "    \n",
    "launch()"
   ]
  },
  {
   "cell_type": "markdown",
   "id": "d41c12d7-7558-410b-a1b5-768fc86f98a7",
   "metadata": {},
   "source": [
    "# Step 2: learn ranker using (fixed pre-finetuned) task LLM"
   ]
  },
  {
   "cell_type": "code",
   "execution_count": null,
   "id": "4fcd3580-0bf2-450a-a316-849124fafd3f",
   "metadata": {},
   "outputs": [],
   "source": [
    "def launch():\n",
    "    import os\n",
    "    import StepTwo\n",
    "    import torch\n",
    "\n",
    "    os.environ['MODEL_TYPE'] = 'base'\n",
    "    augment = int(os.environ.get('AUGMENT', '1'))\n",
    "    os.environ['BATCH_SIZE'] = '2'\n",
    "    os.environ['LEARN_BATCH_SIZE'] = '4'\n",
    "    os.environ['GRAD_FREE_BATCH_SIZE'] = '16'\n",
    "    os.environ['STEP1_ITER'] = '1_augment2'\n",
    "    \n",
    "    world_size = torch.cuda.device_count()\n",
    "    torch.multiprocessing.spawn(StepTwo.step_two,\n",
    "                                args=(world_size,),\n",
    "                                nprocs=world_size,\n",
    "                                join=True)\n",
    "    \n",
    "launch()"
   ]
  },
  {
   "cell_type": "code",
   "execution_count": null,
   "id": "ac86343e-22c9-46af-b586-ab10a5327bf1",
   "metadata": {},
   "outputs": [],
   "source": []
  }
 ],
 "metadata": {
  "kernelspec": {
   "display_name": "Python 3 (ipykernel)",
   "language": "python",
   "name": "python3"
  },
  "language_info": {
   "codemirror_mode": {
    "name": "ipython",
    "version": 3
   },
   "file_extension": ".py",
   "mimetype": "text/x-python",
   "name": "python",
   "nbconvert_exporter": "python",
   "pygments_lexer": "ipython3",
   "version": "3.10.13"
  }
 },
 "nbformat": 4,
 "nbformat_minor": 5
}
