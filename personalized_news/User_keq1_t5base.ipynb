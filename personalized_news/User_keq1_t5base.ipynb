{
 "cells": [
  {
   "cell_type": "markdown",
   "id": "a258105a-3b77-499a-bc5c-6e1ceb3e92e5",
   "metadata": {},
   "source": [
    "# Step 1: fine-tune LLM using top result from (fixed) ranker"
   ]
  },
  {
   "cell_type": "code",
   "execution_count": null,
   "id": "83f4483a-9d5d-4c65-923c-cc9e327c9498",
   "metadata": {},
   "outputs": [],
   "source": [
    "def step_one(*, k, max_iteration):\n",
    "    import evaluate\n",
    "    from TaskLLM import TaskLLM\n",
    "    from PersonalizedNews import train_loader, dev_loader\n",
    "    from ProgressPrinter import ProgressPrinter\n",
    "    from peft import IA3Config, TaskType\n",
    "    from transformers import T5ForConditionalGeneration\n",
    "    import torch\n",
    "    from Util import interleave\n",
    "    \n",
    "    device = 'cuda'\n",
    "    torch.set_default_device(device)\n",
    "    torch.manual_seed(2112)\n",
    "\n",
    "    train = train_loader(batch_size=1, augment=True)\n",
    "    dev = dev_loader(batch_size=2)\n",
    "\n",
    "    t5 = T5ForConditionalGeneration.from_pretrained('google/flan-t5-base')\n",
    "    taskllm_config = IA3Config(task_type=TaskType.SEQ_2_SEQ_LM)\n",
    "    t5.add_adapter(taskllm_config, \"taskllm\")\n",
    "    t5.enable_adapters()\n",
    "\n",
    "    taskllm = TaskLLM(t5=t5, adapter_name=\"taskllm\")\n",
    "\n",
    "    rouge_metric = evaluate.load('rouge')\n",
    "    \n",
    "    with ProgressPrinter('iter', f'{k} loss', f'{k} rouge1', f'{k} rouge1 (dev)') as printer:\n",
    "        for iteration in range(max_iteration):\n",
    "            for istrain, (examples, labels) in interleave(train, dev, sequential=True):\n",
    "                with torch.no_grad():\n",
    "                    prompts = []\n",
    "    \n",
    "                    for ex in examples:\n",
    "                        embeddings = dev.embed( [ ex['article'] ] + \n",
    "                                                [ v['text']\n",
    "                                                  for v in ex['profile']\n",
    "                                                ])\n",
    "                        index = torch.topk(embeddings[0,:] @ embeddings[1:,:].T, dim=0, k=k).indices.to('cpu').tolist()\n",
    "                        profile_examples = [ ex['profile'][ind] for ind in index ]\n",
    "                        prompt = dev.prepend_to_prompt(ex, profile_examples)\n",
    "                        prompts.append(prompt)\n",
    "\n",
    "                    guesses = taskllm.generate(prompts)\n",
    "                    scores = rouge_metric.compute(predictions=guesses, references=labels)['rouge1']\n",
    "    \n",
    "                loss = taskllm.learn(prompts, labels) if istrain else None\n",
    "                printer.addobs(iteration, loss, scores if istrain else None, scores if not istrain else None)\n",
    "\n",
    "            printer.print()\n",
    "            printer.autoprint = False\n",
    "            taskllm.save_pretrained(f'User_keq{k}_t5base_step1_iter{iteration}')\n",
    "\n",
    "from Fork import SubProcess\n",
    "from Util import BadPipe\n",
    "with BadPipe(), SubProcess() as process: process.parent or step_one(k=1, max_iteration=5)"
   ]
  },
  {
   "cell_type": "markdown",
   "id": "daf16df8-9320-4be9-98f9-da38da180a91",
   "metadata": {},
   "source": [
    "# Step 2: learn ranker using (fixed pre-finetuned) task LLM"
   ]
  },
  {
   "cell_type": "code",
   "execution_count": null,
   "id": "58810c2b-35e5-4efe-bd43-1b5f25c16357",
   "metadata": {},
   "outputs": [],
   "source": []
  }
 ],
 "metadata": {
  "kernelspec": {
   "display_name": "Python 3 (ipykernel)",
   "language": "python",
   "name": "python3"
  },
  "language_info": {
   "codemirror_mode": {
    "name": "ipython",
    "version": 3
   },
   "file_extension": ".py",
   "mimetype": "text/x-python",
   "name": "python",
   "nbconvert_exporter": "python",
   "pygments_lexer": "ipython3",
   "version": "3.10.13"
  }
 },
 "nbformat": 4,
 "nbformat_minor": 5
}
