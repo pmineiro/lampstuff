{
 "cells": [
  {
   "cell_type": "markdown",
   "id": "a258105a-3b77-499a-bc5c-6e1ceb3e92e5",
   "metadata": {},
   "source": [
    "# Step 1: fine-tune LLM using top result from (fixed) ranker"
   ]
  },
  {
   "cell_type": "code",
   "execution_count": 2,
   "id": "83f4483a-9d5d-4c65-923c-cc9e327c9498",
   "metadata": {},
   "outputs": [
    {
     "name": "stdout",
     "output_type": "stream",
     "text": [
      "******** augment = 1 max_iteration = 5 model_type = xxl *********\n",
      "1                0.000 (0.000)          2.657 (2.657)          0.250 (0.250)          0.250 (0.250)          0.000 (0.000)    12 s\n",
      "2                0.000 (0.000)          2.722 (2.787)          0.125 (0.000)          0.125 (0.000)          0.000 (0.000)  27.8 s\n",
      "4                0.000 (0.000)          2.410 (2.097)          0.156 (0.188)          0.154 (0.183)          0.000 (0.000)  52.4 s\n",
      "8                0.000 (0.000)          2.187 (1.965)          0.127 (0.097)          0.107 (0.061)          0.000 (0.000)  1.72 m\n",
      "16               0.000 (0.000)          2.328 (2.468)          0.161 (0.195)          0.195 (0.283)          0.000 (0.000)  3.55 m\n",
      "32               0.000 (0.000)          2.336 (2.344)          0.181 (0.201)          0.213 (0.232)          0.000 (0.000)   6.9 m\n",
      "64               0.000 (0.000)          2.352 (2.369)          0.205 (0.228)          0.217 (0.220)          0.000 (0.000)  13.7 m\n",
      "128              0.000 (0.000)          2.248 (2.144)          0.225 (0.245)          0.234 (0.251)          0.000 (0.000)  27.9 m\n",
      "256              0.000 (0.000)          2.254 (2.259)          0.207 (0.189)          0.223 (0.211)          0.000 (0.000)  55.1 m\n",
      "512              0.000 (0.000)          2.270 (2.287)          0.203 (0.199)          0.229 (0.236)          0.000 (0.000)  1.82 h\n",
      "1024             0.000 (0.000)          2.284 (2.298)          0.207 (0.211)          0.229 (0.229)          0.000 (0.000)  3.66 h\n",
      "2048             0.000 (0.000)          2.199 (2.114)          0.218 (0.228)          0.230 (0.231)          0.000 (0.000)  7.35 h\n",
      "4096             0.000 (0.000)          2.133 (2.067)          0.228 (0.239)          0.235 (0.240)          0.000 (0.000)  14.8 h\n",
      "8192             0.000 (0.000)          2.078 (2.023)          0.233 (0.237)          0.236 (0.238)          0.000 (0.000)  1.24 d\n",
      "11318            0.000 (0.000)          2.069 (2.008)          0.233 (0.238)          0.237 (0.239)          0.228 (0.228)  1.63 d\n"
     ]
    }
   ],
   "source": [
    "def launch():\n",
    "    import os\n",
    "    import StepOne\n",
    "    import torch\n",
    "\n",
    "    os.environ['MODEL_TYPE'] = 'xxl'\n",
    "    os.environ['BATCH_SIZE'] = '1'\n",
    "    os.environ['r'] = os.environ.get('r', '1')\n",
    "    \n",
    "    world_size = torch.cuda.device_count()\n",
    "    torch.multiprocessing.spawn(StepOne.step_one,\n",
    "                                args=(world_size,),\n",
    "                                nprocs=world_size,\n",
    "                                join=True)\n",
    "    \n",
    "launch()"
   ]
  },
  {
   "cell_type": "markdown",
   "id": "d41c12d7-7558-410b-a1b5-768fc86f98a7",
   "metadata": {},
   "source": [
    "# Step 2: learn ranker using (fixed pre-finetuned) task LLM"
   ]
  },
  {
   "cell_type": "code",
   "execution_count": null,
   "id": "4fcd3580-0bf2-450a-a316-849124fafd3f",
   "metadata": {},
   "outputs": [
    {
     "name": "stdout",
     "output_type": "stream",
     "text": [
      "******** augment = 1 max_iteration = 5 model_type = xxl *********\n",
      "n                    iter (since)            4 loss (since)           4 rouge (since)       4 ema rouge (since) 4 ema rouge (dev) (since)            nsamps (since)      dt\n",
      "1                   0.000 (0.000)             0.478 (0.478)             0.229 (0.229)             0.229 (0.229)             0.000 (0.000)           128.000 (128.000)  3.99 m\n",
      "2                   0.000 (0.000)             0.455 (0.433)             0.186 (0.143)             0.211 (0.194)             0.000 (0.000)           120.750 (113.500)  7.98 m\n",
      "4                   0.000 (0.000)             0.510 (0.564)             0.297 (0.408)             0.304 (0.397)             0.000 (0.000)           110.250 (99.750)  14.1 m\n",
      "8                   0.000 (0.000)             0.665 (0.821)             0.316 (0.335)             0.311 (0.318)             0.000 (0.000)            56.625 (3.000)  16.9 m\n",
      "16                  0.000 (0.000)             0.677 (0.689)             0.262 (0.208)             0.273 (0.235)             0.000 (0.000)            41.781 (26.938)  26.5 m\n",
      "32                  0.000 (0.000)             0.606 (0.536)             0.247 (0.233)             0.247 (0.221)             0.000 (0.000)            73.422 (105.062)  1.34 h\n",
      "64                  0.000 (0.000)             0.509 (0.411)             0.221 (0.195)             0.219 (0.191)             0.000 (0.000)            71.602 (69.781)  2.63 h\n",
      "128                 0.000 (0.000)             0.502 (0.496)             0.209 (0.197)             0.207 (0.195)             0.000 (0.000)            48.973 (26.344)  4.02 h\n",
      "256                 0.000 (0.000)             0.512 (0.522)             0.242 (0.276)             0.245 (0.283)             0.000 (0.000)            28.178 (7.383)  5.75 h\n",
      "512                 0.000 (0.000)             0.501 (0.490)             0.238 (0.233)             0.237 (0.229)             0.000 (0.000)            17.403 (6.629)  9.12 h\n",
      "1024                0.000 (0.000)             0.502 (0.502)             0.240 (0.243)             0.238 (0.239)             0.000 (0.000)            11.618 (5.832)  15.7 h\n",
      "2048                0.000 (0.000)             0.495 (0.489)             0.235 (0.230)             0.235 (0.232)             0.000 (0.000)             8.955 (6.293)   1.2 d\n",
      "4096                0.000 (0.000)             0.490 (0.485)             0.235 (0.234)             0.235 (0.236)             0.000 (0.000)             7.237 (5.520)  2.27 d\n"
     ]
    }
   ],
   "source": [
    "def launch():\n",
    "    import os\n",
    "    import StepTwo\n",
    "    import torch\n",
    "\n",
    "    os.environ['MODEL_TYPE'] = 'xxl'\n",
    "    os.environ['BATCH_SIZE'] = '2'\n",
    "    os.environ['LEARN_BATCH_SIZE'] = '2'\n",
    "    os.environ['GRAD_FREE_BATCH_SIZE'] = '16'\n",
    "    os.environ['r'] = os.environ.get('r', '1')\n",
    "    os.environ['STEP1_ITER'] = os.environ.get('STEP1_ITER', '0_augment2')\n",
    "    \n",
    "    world_size = torch.cuda.device_count()\n",
    "    torch.multiprocessing.spawn(StepTwo.step_two,\n",
    "                                args=(world_size,),\n",
    "                                nprocs=world_size,\n",
    "                                join=True)\n",
    "    \n",
    "launch()"
   ]
  },
  {
   "cell_type": "markdown",
   "id": "f33b903d-482b-4729-a153-474793fdc604",
   "metadata": {},
   "source": [
    "# Step 3: Prepare Submission Files"
   ]
  },
  {
   "cell_type": "code",
   "execution_count": null,
   "id": "ac86343e-22c9-46af-b586-ab10a5327bf1",
   "metadata": {},
   "outputs": [
    {
     "name": "stdout",
     "output_type": "stream",
     "text": [
      "*** step1_iter: 0_augment2 step2_iter: 0_augment1 ***\n",
      "n       4 rouge (dev) (since)      dt\n",
      "1               0.114 (0.114)  1.02 m\n",
      "2               0.181 (0.249)  1.79 m\n",
      "4               0.217 (0.254)  3.68 m\n",
      "8               0.219 (0.220)  7.55 m\n",
      "16              0.232 (0.245)  15.7 m\n",
      "32              0.222 (0.212)  32.9 m\n",
      "64              0.217 (0.212)   1.1 h\n",
      "128             0.224 (0.230)  2.23 h\n",
      "256             0.228 (0.232)  4.47 h\n"
     ]
    }
   ],
   "source": [
    "def prepare_submission(*, step2_iter, step1_iter, k):\n",
    "    import evaluate\n",
    "    import json\n",
    "    from RewardPredictor import RewardPredictor\n",
    "    from TaskLLM import TaskLLM\n",
    "    from PersonalizedNews import dev_loader, test_loader\n",
    "    from ProgressPrinter import ProgressPrinter\n",
    "    from transformers import T5ForConditionalGeneration\n",
    "    import torch\n",
    "    from Util import interleave\n",
    "    \n",
    "    device = 'cuda'\n",
    "    torch.set_default_device(device)\n",
    "    torch.manual_seed(8675309)\n",
    "\n",
    "    dev = dev_loader(batch_size=8)\n",
    "    test = test_loader(batch_size=8)\n",
    "\n",
    "    t5 = T5ForConditionalGeneration.from_pretrained('google/flan-t5-xxl', load_in_8bit=True)\n",
    "    taskllm_model_id = f'User_keq{k}_t5xxl_step1_iter{step1_iter}'\n",
    "    t5.load_adapter(taskllm_model_id, 'raw_taskllm')\n",
    "    t5.load_adapter(taskllm_model_id, 'ema_taskllm')\n",
    "    rhat_model_id = f'User_keq{k}_t5xxl_step2_iter{step2_iter}'\n",
    "    t5.load_adapter(rhat_model_id, 'raw_rhat')\n",
    "    t5.load_adapter(rhat_model_id, 'ema_rhat')\n",
    "    t5.enable_adapters()\n",
    "    \n",
    "    taskllm = TaskLLM(t5=t5, adapter_suffix=\"taskllm\")\n",
    "    rewardpredictor = RewardPredictor(t5=t5, adapter_suffix=\"rhat\", model_id=rhat_model_id)\n",
    "    rouge_metric = evaluate.load('rouge')\n",
    "    gradfree_batch_size = 128\n",
    "    n_randos = 128\n",
    "\n",
    "    gumbel = torch.distributions.gumbel.Gumbel(0,1)\n",
    "    def randomized_similarity(embeddings, nsamples):\n",
    "        scores = embeddings[0,:] @ embeddings[1:,:].T\n",
    "        temperature = scores[0].item() - scores[min(scores.shape[0]-1, 4)].item()\n",
    "        gumbel_shape = torch.Size([nsamples, scores.shape[0]])\n",
    "        gumbels = temperature * gumbel.sample(gumbel_shape).to(scores.device)\n",
    "        safek = min(k, scores.shape[0])\n",
    "        return torch.unique(torch.topk(scores.unsqueeze(0) + gumbels, dim=1, k=safek).indices, sorted=False, dim=0)\n",
    "\n",
    "    def inner_batch(func, inner_batch_size, inputs):\n",
    "        from more_itertools import chunked\n",
    "        return [ func(*ib) for ib in zip(*[ chunked(g, inner_batch_size) for g in inputs ]) ]\n",
    "    \n",
    "    print(f'*** step1_iter: {step1_iter} step2_iter: {step2_iter} ***')\n",
    "\n",
    "    devgolds, testgolds = [], []\n",
    "    with ProgressPrinter(f'{k} rouge (dev)') as printer:\n",
    "        cumsum = lambda z, acc=0: [0] + [ acc := acc + v for v in z ]\n",
    "\n",
    "        for isdev, (examples, labels) in interleave(dev, test, sequential=True):\n",
    "            with torch.no_grad():\n",
    "                texts_to_embed = [ [ text[:256]\n",
    "                                     for text in (' '.join(ex['article'].split()), )\n",
    "                                   ] +\n",
    "                                   [ text[:256]\n",
    "                                     for v in ex['profile']\n",
    "                                     for text in (' '.join(v['text'].split()), )\n",
    "                                   ]\n",
    "                                   for ex in examples\n",
    "                                 ]\n",
    "                embeddings = torch.cat(inner_batch(func = dev.embed,\n",
    "                                                   inner_batch_size = gradfree_batch_size,\n",
    "                                                   inputs = (sum(texts_to_embed, []),)\n",
    "                                                  ),\n",
    "                                       dim=0)\n",
    "                splits = cumsum(map(len, texts_to_embed))\n",
    "                randos = [ randomized_similarity(embeddings[a:b,:], n_randos) for a, b in zip(splits, splits[1:]) ]\n",
    "                prompts = [ [ dev.prepend_to_prompt(ex, [ ex['profile'][ind] for ind in indices ])\n",
    "                              for indices in rando.to('cpu').tolist()\n",
    "                            ]\n",
    "                            for ex, rando in zip(examples, randos)\n",
    "                          ]\n",
    "                rhats = torch.cat(inner_batch(func = rewardpredictor.predict,\n",
    "                                              inner_batch_size = gradfree_batch_size,\n",
    "                                              inputs = (sum(prompts, []),)\n",
    "                                             ),\n",
    "                                  dim=0)\n",
    "                splits = cumsum(map(len, prompts))\n",
    "                greedyaction = [ rhats[a:b].argmax().item() for a, b in zip(splits, splits[1:]) ]\n",
    "                greedyprompts = [ prompt[a] for prompt, a in zip(prompts, greedyaction) ]\n",
    "                guesses = sum(inner_batch(func = taskllm.generate,\n",
    "                                          inner_batch_size = gradfree_batch_size,\n",
    "                                          inputs = (greedyprompts,)\n",
    "                                         ),\n",
    "                              [])\n",
    "                if isdev:\n",
    "                    rewards = sum( ( rouge_metric.compute(predictions=[guess],\n",
    "                                                          references=[label],\n",
    "                                                          use_aggregator=False)['rouge1']\n",
    "                                     for guess, label in zip(guesses, labels)\n",
    "                                  ),\n",
    "                                  [])\n",
    "                    rewards = torch.Tensor(rewards, device='cpu').mean().item()\n",
    "                else:\n",
    "                    rewards = None\n",
    "                \n",
    "                for ex, guess in zip(examples, guesses):\n",
    "                    (devgolds if isdev else testgolds).append({ 'id': ex['id'], 'output': guess })\n",
    "\n",
    "            printer.addobs(rewards)\n",
    "\n",
    "    for wut, golds in ( ('dev', devgolds), ('test', testgolds) ):\n",
    "        with open(f'lamp4u_{wut}golds_t5xxl_keq{k}_step1_iter{step1_iter}_step2_iter{step2_iter}.json', 'w') as jsonfile:\n",
    "            json.dump({ 'task': 'LaMP_4', 'golds': golds }, jsonfile)\n",
    "            \n",
    "prepare_submission(k=4, step1_iter='0_augment2', step2_iter='0_augment1')"
   ]
  },
  {
   "cell_type": "markdown",
   "id": "dee9c7f5-9254-4e41-af4c-10b0faef4924",
   "metadata": {},
   "source": [
    "> Hi,\n",
    "> \n",
    "> This is the result of your latest submission to LaMP benchmark\n",
    "> \n",
    "> {\"rouge-1\": 0.22116036597254493, \"rouge-L\": 0.20283352960160614}"
   ]
  },
  {
   "cell_type": "code",
   "execution_count": null,
   "id": "475b4418-3780-4cc8-9226-0ecd5d61a56c",
   "metadata": {},
   "outputs": [],
   "source": []
  }
 ],
 "metadata": {
  "kernelspec": {
   "display_name": "Python 3 (ipykernel)",
   "language": "python",
   "name": "python3"
  },
  "language_info": {
   "codemirror_mode": {
    "name": "ipython",
    "version": 3
   },
   "file_extension": ".py",
   "mimetype": "text/x-python",
   "name": "python",
   "nbconvert_exporter": "python",
   "pygments_lexer": "ipython3",
   "version": "3.10.13"
  }
 },
 "nbformat": 4,
 "nbformat_minor": 5
}
