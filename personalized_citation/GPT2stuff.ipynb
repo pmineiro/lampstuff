{
 "cells": [
  {
   "cell_type": "code",
   "execution_count": 1,
   "id": "42eeac9f-b607-4450-b7ac-9ec8cca9b2c8",
   "metadata": {},
   "outputs": [
    {
     "name": "stdout",
     "output_type": "stream",
     "text": [
      "n          0 shot acc      since     dt (s)\n",
      "1                   1          1       1.29\n",
      "2                   1          1       2.03\n",
      "4                0.75        0.5       3.86\n",
      "8               0.625        0.5       7.43\n",
      "16              0.688       0.75       13.4\n",
      "32              0.578      0.469       27.2\n",
      "64              0.516      0.453       56.5\n",
      "128             0.469      0.422        136\n",
      "256             0.506      0.543        305\n",
      "512             0.514      0.521        592\n",
      "1024            0.505      0.496   1.19e+03\n",
      "2048              0.5      0.495   2.32e+03\n",
      "4096            0.495      0.489   4.64e+03\n",
      "4841            0.493      0.483   5.46e+03\n"
     ]
    }
   ],
   "source": [
    "def baselines():\n",
    "    from ProgressPrinter import ProgressPrinter\n",
    "    from FewShot import ZeroShotClassifier\n",
    "    from PersonalizedCitation import train_loader\n",
    "    import torch\n",
    "\n",
    "    device = 'cpu'\n",
    "    torch.set_default_device(device)\n",
    "    torch.manual_seed(2112)\n",
    "\n",
    "    train = train_loader(batch_size=2)\n",
    "    zero = ZeroShotClassifier()\n",
    "\n",
    "    with ProgressPrinter('0 shot acc') as printer:\n",
    "        for inputs, profiles, answers in train:\n",
    "            with torch.no_grad():\n",
    "                multichoices = [ ( i, train.choices ) for i in inputs ] \n",
    "                zeroguesses = zero(multichoices)\n",
    "                zeroreward = torch.Tensor([ float(guess == answer) for guess, answer in zip(zeroguesses, answers) ]).mean().item()\n",
    "\n",
    "            printer.addobs(zeroreward)\n",
    "\n",
    "from Fork import SubProcess\n",
    "with SubProcess() as process: process.parent or baselines()"
   ]
  },
  {
   "cell_type": "code",
   "execution_count": null,
   "id": "e777a9aa-ef5e-4d37-b288-3647e3ba1c82",
   "metadata": {},
   "outputs": [],
   "source": []
  }
 ],
 "metadata": {
  "kernelspec": {
   "display_name": "Python 3 (ipykernel)",
   "language": "python",
   "name": "python3"
  },
  "language_info": {
   "codemirror_mode": {
    "name": "ipython",
    "version": 3
   },
   "file_extension": ".py",
   "mimetype": "text/x-python",
   "name": "python",
   "nbconvert_exporter": "python",
   "pygments_lexer": "ipython3",
   "version": "3.10.13"
  }
 },
 "nbformat": 4,
 "nbformat_minor": 5
}
