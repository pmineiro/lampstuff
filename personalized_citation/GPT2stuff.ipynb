{
 "cells": [
  {
   "cell_type": "code",
   "execution_count": 16,
   "id": "65f81820-ccdf-457e-96ca-49cbba9ce246",
   "metadata": {},
   "outputs": [
    {
     "name": "stdout",
     "output_type": "stream",
     "text": [
      "n          0 shot acc      since 1 shot acc      since     ft acc      since    ft loss      since     dt (s)\n",
      "1                   1          1          1          1          1          1     -0.319     -0.319       1.82\n",
      "2                 0.5          0        0.5          0       0.75        0.5     -0.156    0.00718       2.81\n",
      "4               0.625       0.75      0.625       0.75      0.812      0.875    -0.0808    -0.0057       5.51\n",
      "8               0.688       0.75      0.688       0.75      0.844      0.875    -0.0416   -0.00252       9.09\n",
      "16              0.594        0.5      0.594        0.5      0.797       0.75    -0.0211  -0.000459       15.8\n",
      "32                0.5      0.406        0.5      0.406       0.75      0.703    -0.0103   0.000473       30.6\n",
      "64              0.453      0.406      0.453      0.406      0.727      0.703   -0.00466   0.000968       63.6\n",
      "128             0.488      0.523      0.488      0.523      0.744      0.762   -0.00276  -0.000865        125\n",
      "256              0.48      0.473       0.48      0.473       0.74      0.736   -0.00144  -0.000119        246\n",
      "512             0.496      0.512      0.496      0.512      0.748      0.756  -0.000788  -0.000134        500\n",
      "1024            0.496      0.496      0.496      0.496      0.748      0.748  -0.000405  -2.32e-05        991\n",
      "2048            0.493      0.489      0.493      0.489      0.746      0.745  -0.000231  -5.69e-05   1.96e+03\n",
      "4096            0.493      0.494      0.493      0.494      0.746      0.746   0.000104   0.000439   3.84e+03\n",
      "4841            0.493       0.49      0.493       0.49      0.746      0.745   0.000139    0.00033   4.51e+03\n"
     ]
    }
   ],
   "source": [
    "def baselines():\n",
    "    from ProgressPrinter import ProgressPrinter\n",
    "    from FewShot import ZeroShotClassifier, FewShotClassifier, PEFTFewShotClassifier\n",
    "    from PersonalizedCitation import train_loader\n",
    "    from peft import IA3Config, TaskType\n",
    "    import torch\n",
    "\n",
    "    device = 'cuda'\n",
    "    torch.set_default_device(device)\n",
    "    torch.manual_seed(2112)\n",
    "\n",
    "    train = train_loader(batch_size=2)\n",
    "    zero = ZeroShotClassifier()\n",
    "    few = FewShotClassifier()\n",
    "    peft_config = IA3Config(task_type=TaskType.CAUSAL_LM, fan_in_fan_out=True)\n",
    "    ft = PEFTFewShotClassifier(peft_config)\n",
    "\n",
    "    with ProgressPrinter('0 shot acc', '1 shot acc', 'ft acc', 'ft loss') as printer:\n",
    "        for inputs, profiles, answers in train:\n",
    "            with torch.no_grad():\n",
    "                multichoices = [ ( i, train.choices ) for i in inputs ] \n",
    "                zeroguesses = zero(multichoices)\n",
    "                zeroreward = torch.Tensor([ float(guess == answer) for guess, answer in zip(zeroguesses, answers) ]).mean().item()\n",
    "\n",
    "                shots = []\n",
    "                for input_embedding, profile in zip(train.embed(inputs), profiles):\n",
    "                    profile_embeddings = train.embeddings(profile)\n",
    "                    indices = torch.topk(input_embedding @ profile_embeddings.T, dim=0, k=1).indices.to('cpu')\n",
    "                    shots.append(train.stringify_articles(indices))\n",
    "\n",
    "                fewguesses = few(multichoices, shots)[0]\n",
    "                fewreward = torch.Tensor([ float(guess == answer) for guess, answer in zip(fewguesses, answers) ]).mean().item()\n",
    "\n",
    "                ftguesses, ftguessindices = ft(multichoices, shots)\n",
    "                ftreward = torch.Tensor([ float(guess == answer) for guess, answer in zip(ftguesses, answers) ])\n",
    "\n",
    "            loss = ft.bandit_learn(multichoices, shots, ftguessindices, (2*ftreward-1).to(device))\n",
    "                \n",
    "            printer.addobs(zeroreward, fewreward, (1/2)*(ftreward.mean().item() + 1), loss)\n",
    "\n",
    "from Fork import SubProcess\n",
    "with SubProcess() as process: process.parent or baselines()"
   ]
  },
  {
   "cell_type": "code",
   "execution_count": null,
   "id": "e777a9aa-ef5e-4d37-b288-3647e3ba1c82",
   "metadata": {},
   "outputs": [],
   "source": []
  }
 ],
 "metadata": {
  "kernelspec": {
   "display_name": "Python 3 (ipykernel)",
   "language": "python",
   "name": "python3"
  },
  "language_info": {
   "codemirror_mode": {
    "name": "ipython",
    "version": 3
   },
   "file_extension": ".py",
   "mimetype": "text/x-python",
   "name": "python",
   "nbconvert_exporter": "python",
   "pygments_lexer": "ipython3",
   "version": "3.10.13"
  }
 },
 "nbformat": 4,
 "nbformat_minor": 5
}
