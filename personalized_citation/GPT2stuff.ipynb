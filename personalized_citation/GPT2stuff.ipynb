{
 "cells": [
  {
   "cell_type": "markdown",
   "id": "9be7d643-7299-4e32-99a6-7a73fb2b6f70",
   "metadata": {},
   "source": [
    "GPT2 Classifier ... fail"
   ]
  },
  {
   "cell_type": "code",
   "execution_count": 25,
   "id": "93655b9b-c7c6-4547-8d7a-22e8b4f3f0ce",
   "metadata": {},
   "outputs": [
    {
     "name": "stdout",
     "output_type": "stream",
     "text": [
      "n                loss      since 0 shot acc      since     dt (s)\n",
      "1              0.0607     0.0607          1          1      0.693\n",
      "2                6.76       13.5        0.5          0      0.901\n",
      "4                6.54       6.31      0.625       0.75       1.22\n",
      "8                5.29       4.04      0.562        0.5       1.86\n",
      "16               3.75       2.21      0.469      0.375       3.14\n",
      "32               2.28      0.817        0.5      0.531       5.71\n",
      "64                1.5      0.722      0.523      0.547       10.8\n",
      "128              1.11      0.719      0.488      0.453       21.1\n",
      "256             0.907      0.704       0.49      0.492       41.7\n",
      "512             0.803      0.699      0.497      0.504       82.9\n",
      "1024             0.75      0.697       0.51      0.522        166\n",
      "2048            0.723      0.696      0.511      0.512        333\n",
      "4096            0.709      0.696      0.502      0.494        664\n",
      "4841            0.707      0.695      0.504      0.514        784\n"
     ]
    }
   ],
   "source": [
    "def zero_shot_with_finetuning():\n",
    "    from ProgressPrinter import ProgressPrinter\n",
    "    from GPT2 import GPT2Classifier\n",
    "    from PersonalizedCitation import train_loader\n",
    "    import torch\n",
    "\n",
    "    device = 'cuda'\n",
    "    torch.set_default_device(device)\n",
    "    torch.manual_seed(2112)\n",
    "\n",
    "    train = train_loader(batch_size=2)\n",
    "    zeroshot = GPT2Classifier(train.num_labels).to(device)\n",
    "\n",
    "    with ProgressPrinter('loss', '0 shot acc') as printer:\n",
    "        for inputs, profiles, answers in train:\n",
    "            with torch.no_grad():\n",
    "                target = torch.Tensor([ int(answer == train.choices[1]) for answer in answers ]).long().to(device)\n",
    "                zeroshotacc = (zeroshot.predict(inputs).argmax(dim=1) == target).float().mean().item()\n",
    "                \n",
    "            loss = zeroshot.learn(inputs, target)\n",
    "            printer.addobs(loss, zeroshotacc)\n",
    "\n",
    "from Fork import SubProcess\n",
    "with SubProcess() as process: process.parent or zero_shot_with_finetuning()"
   ]
  },
  {
   "cell_type": "code",
   "execution_count": 29,
   "id": "e2c889a2",
   "metadata": {},
   "outputs": [
    {
     "name": "stdout",
     "output_type": "stream",
     "text": [
      "n              1 loss      since 1 shot acc      since     dt (s)\n",
      "1              0.0708     0.0708          1          1       1.53\n",
      "2                3.11       6.15        0.5          0       2.17\n",
      "4                4.88       6.66      0.375       0.25       3.62\n",
      "8                3.05       1.21      0.438        0.5       5.95\n",
      "16               2.14       1.23      0.469        0.5       10.7\n",
      "32               1.44      0.732      0.531      0.594       20.5\n",
      "64               1.08      0.718      0.547      0.562       40.6\n",
      "128             0.898       0.72      0.504      0.461       80.3\n",
      "256             0.803      0.707      0.512       0.52        285\n",
      "512             0.802        0.8       0.52      0.527        766\n",
      "1024            0.887      0.972      0.516      0.513    1.8e+03\n",
      "2048            0.951       1.01      0.512      0.509   4.79e+03\n",
      "4096            0.978          1      0.503      0.494   9.22e+03\n",
      "4841            0.979      0.988      0.507      0.529   1.04e+04\n"
     ]
    }
   ],
   "source": [
    "def one_shot_with_finetuning():\n",
    "    from ProgressPrinter import ProgressPrinter\n",
    "    from GPT2 import GPT2Classifier\n",
    "    from PersonalizedCitation import train_loader\n",
    "    from ReplayWrapper import ReplayWrapper\n",
    "    import torch\n",
    "\n",
    "    device = 'cuda'\n",
    "    torch.set_default_device(device)\n",
    "    torch.manual_seed(2112)\n",
    "\n",
    "    train = train_loader(batch_size=2)\n",
    "    fewshot = ReplayWrapper(GPT2Classifier(train.num_labels).to(device), replay_count=4, nbatches=128)\n",
    "\n",
    "    with ProgressPrinter('1 loss', '1 shot acc') as printer:\n",
    "        for inputs, profiles, answers in train:\n",
    "            with torch.no_grad():\n",
    "                target = torch.Tensor([ int(answer == train.choices[1]) for answer in answers ]).long().to(device)\n",
    "\n",
    "                shots = []\n",
    "                for input_embedding, profile in zip(train.embed(inputs), profiles):\n",
    "                    profile_embeddings = train.embeddings(profile)\n",
    "                    indices = torch.topk(input_embedding @ profile_embeddings.T, dim=0, k=1).indices.to('cpu')\n",
    "                    shots.append(train.stringify_articles(indices))\n",
    "\n",
    "                fewinputs = [ shot[0] + '\\n\\n' + input for input, shot in zip(inputs, shots) ]\n",
    "                fewshotacc = (fewshot.predict(inputs).argmax(dim=1) == target).float().mean().item()\n",
    "                \n",
    "            fewloss = fewshot.learn(fewinputs, target)\n",
    "            \n",
    "            printer.addobs(fewloss, fewshotacc)\n",
    "\n",
    "from Fork import SubProcess\n",
    "with SubProcess() as process: process.parent or one_shot_with_finetuning()"
   ]
  },
  {
   "cell_type": "code",
   "execution_count": null,
   "id": "e777a9aa-ef5e-4d37-b288-3647e3ba1c82",
   "metadata": {},
   "outputs": [],
   "source": []
  }
 ],
 "metadata": {
  "kernelspec": {
   "display_name": "Python 3 (ipykernel)",
   "language": "python",
   "name": "python3"
  },
  "language_info": {
   "codemirror_mode": {
    "name": "ipython",
    "version": 3
   },
   "file_extension": ".py",
   "mimetype": "text/x-python",
   "name": "python",
   "nbconvert_exporter": "python",
   "pygments_lexer": "ipython3",
   "version": "3.10.13"
  }
 },
 "nbformat": 4,
 "nbformat_minor": 5
}
