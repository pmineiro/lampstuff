{
 "cells": [
  {
   "cell_type": "markdown",
   "id": "a258105a-3b77-499a-bc5c-6e1ceb3e92e5",
   "metadata": {},
   "source": [
    "# Step 1: fine-tune LLM using top result from (fixed) ranker"
   ]
  },
  {
   "cell_type": "code",
   "execution_count": 2,
   "id": "83f4483a-9d5d-4c65-923c-cc9e327c9498",
   "metadata": {},
   "outputs": [
    {
     "name": "stdout",
     "output_type": "stream",
     "text": [
      "******** augment = 1 max_iteration = 5 model_type = xxl *********\n",
      "n                 iter (since)         2 loss (since)       2 rouge1 (since)   2 rouge1 ema (since) 2 rouge1 (dev) (since)      dt\n",
      "1                0.000 (0.000)          0.260 (0.260)          0.359 (0.359)          0.359 (0.359)          0.000 (0.000)  17.1 s\n",
      "2                0.000 (0.000)          0.160 (0.060)          0.367 (0.375)          0.367 (0.375)          0.000 (0.000)    37 s\n",
      "4                0.000 (0.000)          0.085 (0.010)          0.663 (0.958)          0.653 (0.940)          0.000 (0.000)   1.2 m\n",
      "8                0.000 (0.000)          0.751 (1.417)          0.428 (0.194)          0.477 (0.300)          0.000 (0.000)  2.28 m\n",
      "16               0.000 (0.000)          0.864 (0.977)          0.532 (0.637)          0.539 (0.602)          0.000 (0.000)  4.36 m\n",
      "32               0.000 (0.000)          0.999 (1.135)          0.512 (0.491)          0.569 (0.599)          0.000 (0.000)  8.54 m\n",
      "64               0.000 (0.000)          0.942 (0.884)          0.549 (0.586)          0.576 (0.582)          0.000 (0.000)  17.3 m\n",
      "128              0.000 (0.000)          0.926 (0.910)          0.569 (0.590)          0.591 (0.605)          0.000 (0.000)  34.8 m\n",
      "256              0.000 (0.000)          0.867 (0.808)          0.596 (0.623)          0.616 (0.641)          0.000 (0.000)  1.19 h\n",
      "512              0.000 (0.000)          0.881 (0.895)          0.605 (0.615)          0.632 (0.648)          0.000 (0.000)  2.37 h\n",
      "1024             0.000 (0.000)          0.818 (0.755)          0.630 (0.654)          0.656 (0.679)          0.000 (0.000)   4.8 h\n",
      "2048             0.000 (0.000)          0.798 (0.777)          0.644 (0.659)          0.659 (0.663)          0.000 (0.000)  9.65 h\n",
      "4096             0.000 (0.000)          0.780 (0.763)          0.651 (0.657)          0.659 (0.659)          0.000 (0.000)  19.6 h\n",
      "6718             0.000 (0.000)          0.776 (0.759)          0.653 (0.660)          0.659 (0.658)          0.518 (0.518)  1.26 d\n",
      "13436            0.500 (1.000)          0.736 (0.697)          0.656 (0.659)          0.661 (0.663)          0.519 (0.520)  2.52 d\n",
      "20154            1.000 (2.000)          0.705 (0.643)          0.658 (0.664)          0.664 (0.668)          0.520 (0.522)  3.81 d\n",
      "26872            1.500 (3.000)          0.676 (0.589)          0.660 (0.663)          0.665 (0.669)          0.521 (0.525)  5.12 d\n",
      "33590            2.000 (4.000)          0.649 (0.543)          0.661 (0.665)          0.666 (0.669)          0.521 (0.519)  6.44 d\n"
     ]
    }
   ],
   "source": [
    "def launch():\n",
    "    import os\n",
    "    import StepOne\n",
    "    import torch\n",
    "\n",
    "    os.environ['MODEL_TYPE'] = 'xxl'\n",
    "    os.environ['BATCH_SIZE'] = '1'\n",
    "    os.environ['r'] = os.environ.get('r', '10')\n",
    "    os.environ['k'] = os.environ.get('k', '2')\n",
    "    \n",
    "    world_size = torch.cuda.device_count()\n",
    "    torch.multiprocessing.spawn(StepOne.step_one,\n",
    "                                args=(world_size,),\n",
    "                                nprocs=world_size,\n",
    "                                join=True)\n",
    "    \n",
    "launch()"
   ]
  },
  {
   "cell_type": "markdown",
   "id": "d41c12d7-7558-410b-a1b5-768fc86f98a7",
   "metadata": {},
   "source": [
    "# Step 2: learn ranker using (fixed pre-finetuned) task LLM"
   ]
  },
  {
   "cell_type": "code",
   "execution_count": null,
   "id": "4fcd3580-0bf2-450a-a316-849124fafd3f",
   "metadata": {},
   "outputs": [
    {
     "name": "stdout",
     "output_type": "stream",
     "text": []
    }
   ],
   "source": [
    "def launch():\n",
    "    import os\n",
    "    import StepTwo\n",
    "    import torch\n",
    "\n",
    "    os.environ['MODEL_TYPE'] = 'xxl'\n",
    "    os.environ['BATCH_SIZE'] = '2'\n",
    "    os.environ['LEARN_BATCH_SIZE'] = '2'\n",
    "    os.environ['GRAD_FREE_BATCH_SIZE'] = '16'\n",
    "    os.environ['r'] = os.environ.get('r', '1')\n",
    "    os.environ['k'] = os.environ.get('k', '2')\n",
    "    os.environ['STEP1_ITER'] = os.environ.get('STEP1_ITER', '3_augment1')\n",
    "    \n",
    "    world_size = torch.cuda.device_count()\n",
    "    torch.multiprocessing.spawn(StepTwo.step_two,\n",
    "                                args=(world_size,),\n",
    "                                nprocs=world_size,\n",
    "                                join=True)\n",
    "    \n",
    "launch()"
   ]
  },
  {
   "cell_type": "markdown",
   "id": "f33b903d-482b-4729-a153-474793fdc604",
   "metadata": {},
   "source": [
    "# Step 3: Prepare Submission Files"
   ]
  },
  {
   "cell_type": "code",
   "execution_count": null,
   "id": "ac86343e-22c9-46af-b586-ab10a5327bf1",
   "metadata": {},
   "outputs": [
    {
     "name": "stdout",
     "output_type": "stream",
     "text": []
    }
   ],
   "source": [
    "def prepare_submission(*, step2_iter, step1_iter, k):\n",
    "    import evaluate\n",
    "    import json\n",
    "    from RewardPredictor import RewardPredictor\n",
    "    from TaskLLM import TaskLLM\n",
    "    from PersonalizedNews import dev_loader, test_loader\n",
    "    from ProgressPrinter import ProgressPrinter\n",
    "    from transformers import T5ForConditionalGeneration\n",
    "    import torch\n",
    "    from Util import interleave\n",
    "    \n",
    "    device = 'cuda'\n",
    "    torch.set_default_device(device)\n",
    "    torch.manual_seed(8675309)\n",
    "\n",
    "    dev = dev_loader(batch_size=8)\n",
    "    test = test_loader(batch_size=8)\n",
    "\n",
    "    t5 = T5ForConditionalGeneration.from_pretrained('google/flan-t5-xxl', load_in_8bit=True)\n",
    "    taskllm_model_id = f'User_keq{k}_t5xxl_step1_iter{step1_iter}'\n",
    "    t5.load_adapter(taskllm_model_id, 'raw_taskllm')\n",
    "    t5.load_adapter(taskllm_model_id, 'ema_taskllm')\n",
    "    rhat_model_id = f'User_keq{k}_t5xxl_step2_iter{step2_iter}'\n",
    "    t5.load_adapter(rhat_model_id, 'raw_rhat')\n",
    "    t5.load_adapter(rhat_model_id, 'ema_rhat')\n",
    "    t5.enable_adapters()\n",
    "    \n",
    "    taskllm = TaskLLM(t5=t5, adapter_suffix=\"taskllm\")\n",
    "    rewardpredictor = RewardPredictor(t5=t5, adapter_suffix=\"rhat\", model_id=rhat_model_id)\n",
    "    rouge_metric = evaluate.load('rouge')\n",
    "    gradfree_batch_size = 128\n",
    "    n_randos = 128\n",
    "\n",
    "    gumbel = torch.distributions.gumbel.Gumbel(0,1)\n",
    "    def randomized_similarity(embeddings, nsamples):\n",
    "        scores = embeddings[0,:] @ embeddings[1:,:].T\n",
    "        temperature = scores[0].item() - scores[min(scores.shape[0]-1, 4)].item()\n",
    "        gumbel_shape = torch.Size([nsamples, scores.shape[0]])\n",
    "        gumbels = temperature * gumbel.sample(gumbel_shape).to(scores.device)\n",
    "        safek = min(k, scores.shape[0])\n",
    "        return torch.unique(torch.topk(scores.unsqueeze(0) + gumbels, dim=1, k=safek).indices, sorted=False, dim=0)\n",
    "\n",
    "    def inner_batch(func, inner_batch_size, inputs):\n",
    "        from more_itertools import chunked\n",
    "        return [ func(*ib) for ib in zip(*[ chunked(g, inner_batch_size) for g in inputs ]) ]\n",
    "    \n",
    "    print(f'*** step1_iter: {step1_iter} step2_iter: {step2_iter} ***')\n",
    "\n",
    "    devgolds, testgolds = [], []\n",
    "    with ProgressPrinter(f'{k} rouge (dev)') as printer:\n",
    "        cumsum = lambda z, acc=0: [0] + [ acc := acc + v for v in z ]\n",
    "\n",
    "        for isdev, (examples, labels) in interleave(dev, test, sequential=True):\n",
    "            with torch.no_grad():\n",
    "                texts_to_embed = [ [ text[:256]\n",
    "                                     for text in (' '.join(ex['article'].split()), )\n",
    "                                   ] +\n",
    "                                   [ text[:256]\n",
    "                                     for v in ex['profile']\n",
    "                                     for text in (' '.join(v['text'].split()), )\n",
    "                                   ]\n",
    "                                   for ex in examples\n",
    "                                 ]\n",
    "                embeddings = torch.cat(inner_batch(func = dev.embed,\n",
    "                                                   inner_batch_size = gradfree_batch_size,\n",
    "                                                   inputs = (sum(texts_to_embed, []),)\n",
    "                                                  ),\n",
    "                                       dim=0)\n",
    "                splits = cumsum(map(len, texts_to_embed))\n",
    "                randos = [ randomized_similarity(embeddings[a:b,:], n_randos) for a, b in zip(splits, splits[1:]) ]\n",
    "                prompts = [ [ dev.prepend_to_prompt(ex, [ ex['profile'][ind] for ind in indices ])\n",
    "                              for indices in rando.to('cpu').tolist()\n",
    "                            ]\n",
    "                            for ex, rando in zip(examples, randos)\n",
    "                          ]\n",
    "                rhats = torch.cat(inner_batch(func = rewardpredictor.predict,\n",
    "                                              inner_batch_size = gradfree_batch_size,\n",
    "                                              inputs = (sum(prompts, []),)\n",
    "                                             ),\n",
    "                                  dim=0)\n",
    "                splits = cumsum(map(len, prompts))\n",
    "                greedyaction = [ rhats[a:b].argmax().item() for a, b in zip(splits, splits[1:]) ]\n",
    "                greedyprompts = [ prompt[a] for prompt, a in zip(prompts, greedyaction) ]\n",
    "                guesses = sum(inner_batch(func = taskllm.generate,\n",
    "                                          inner_batch_size = gradfree_batch_size,\n",
    "                                          inputs = (greedyprompts,)\n",
    "                                         ),\n",
    "                              [])\n",
    "                if isdev:\n",
    "                    rewards = sum( ( rouge_metric.compute(predictions=[guess],\n",
    "                                                          references=[label],\n",
    "                                                          use_aggregator=False)['rouge1']\n",
    "                                     for guess, label in zip(guesses, labels)\n",
    "                                  ),\n",
    "                                  [])\n",
    "                    rewards = torch.Tensor(rewards, device='cpu').mean().item()\n",
    "                else:\n",
    "                    rewards = None\n",
    "                \n",
    "                for ex, guess in zip(examples, guesses):\n",
    "                    (devgolds if isdev else testgolds).append({ 'id': ex['id'], 'output': guess })\n",
    "\n",
    "            printer.addobs(rewards)\n",
    "\n",
    "    for wut, golds in ( ('dev', devgolds), ('test', testgolds) ):\n",
    "        with open(f'lamp4u_{wut}golds_t5xxl_keq{k}_step1_iter{step1_iter}_step2_iter{step2_iter}.json', 'w') as jsonfile:\n",
    "            json.dump({ 'task': 'LaMP_4', 'golds': golds }, jsonfile)\n",
    "            \n",
    "prepare_submission(k=4, step1_iter='0_augment2', step2_iter='0_augment1')"
   ]
  },
  {
   "cell_type": "code",
   "execution_count": null,
   "id": "475b4418-3780-4cc8-9226-0ecd5d61a56c",
   "metadata": {},
   "outputs": [],
   "source": []
  }
 ],
 "metadata": {
  "kernelspec": {
   "display_name": "Python 3 (ipykernel)",
   "language": "python",
   "name": "python3"
  },
  "language_info": {
   "codemirror_mode": {
    "name": "ipython",
    "version": 3
   },
   "file_extension": ".py",
   "mimetype": "text/x-python",
   "name": "python",
   "nbconvert_exporter": "python",
   "pygments_lexer": "ipython3",
   "version": "3.10.13"
  }
 },
 "nbformat": 4,
 "nbformat_minor": 5
}
